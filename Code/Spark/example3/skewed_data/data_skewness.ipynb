{
 "cells": [
  {
   "cell_type": "code",
   "execution_count": 1,
   "metadata": {},
   "outputs": [],
   "source": [
    "import pandas as pd"
   ]
  },
  {
   "cell_type": "code",
   "execution_count": 3,
   "metadata": {},
   "outputs": [
    {
     "output_type": "execute_result",
     "data": {
      "text/plain": "Index(['Unnamed: 0', 'Summons_Number', 'Plate_ID', 'Registration_State',\n       'Plate_Type', 'Issue_Date', 'Violation_Code', 'Vehicle_Body_Type',\n       'Vehicle_Make', 'Issuing_Agency', 'Street_Code1', 'Street_Code2',\n       'Street_Code3', 'Vehicle_Expiration_Date', 'Violation_Location',\n       'Violation_Precinct', 'Issuer_Precinct', 'Issuer_Code',\n       'Issuer_Command', 'Issuer_Squad', 'Violation_Time',\n       'Time_First_Observed', 'Violation_County',\n       'Violation_In_Front_Of_Or_Opposite', 'House_Number', 'Street_Name',\n       'Intersecting_Street', 'Date_First_Observed', 'Law_Section',\n       'Sub_Division', 'Violation_Legal_Code', 'Days_Parking_In_Effect____',\n       'From_Hours_In_Effect', 'To_Hours_In_Effect', 'Vehicle_Color',\n       'Unregistered_Vehicle?', 'Vehicle_Year', 'Meter_Number',\n       'Feet_From_Curb', 'Violation_Post_Code', 'Violation_Description',\n       'No_Standing_or_Stopping_Violation', 'Hydrant_Violation',\n       'Double_Parking_Violation', 'Latitude', 'Longitude', 'Community_Board',\n       'Community_Council_', 'Census_Tract', 'BIN', 'BBL', 'NTA', 'year',\n       'month'],\n      dtype='object')"
     },
     "metadata": {},
     "execution_count": 3
    }
   ],
   "source": [
    "df = pd.read_csv('parking_violation.csv')\n",
    "df.columns"
   ]
  },
  {
   "cell_type": "code",
   "execution_count": 4,
   "metadata": {},
   "outputs": [
    {
     "output_type": "execute_result",
     "data": {
      "text/plain": "2015    5986831\n2014    5821043\n2013        592\n2000        261\n2012        189\n2011        122\n2010        110\n2001         22\n2004         22\n2005         14\n2008          6\n2006          3\n2007          3\n2003          3\n2002          3\n2009          3\n1988          3\n1991          1\n1986          1\n1985          1\nName: year, dtype: int64"
     },
     "metadata": {},
     "execution_count": 4
    }
   ],
   "source": [
    "# You might want to filter out any data older than 2014\n",
    "df.year.value_counts()"
   ]
  },
  {
   "cell_type": "code",
   "execution_count": 5,
   "metadata": {},
   "outputs": [
    {
     "output_type": "execute_result",
     "data": {
      "text/plain": "1     1392992\n6     1276592\n5     1040148\n9     1029583\n7      969938\n10     966456\n3      965119\n4      951716\n8      911641\n11     798897\n12     774287\n2      731864\nName: month, dtype: int64"
     },
     "metadata": {},
     "execution_count": 5
    }
   ],
   "source": [
    "# There seems to be an even distribution here\n",
    "df.month.value_counts()"
   ]
  },
  {
   "cell_type": "code",
   "execution_count": 7,
   "metadata": {},
   "outputs": [
    {
     "output_type": "execute_result",
     "data": {
      "text/plain": "NY    9193289\nNJ    1080414\nPA     298877\nCT     160361\nFL     148868\n       ...   \nSK         26\nNF         18\nFO         10\nYT          6\nNT          6\nName: Registration_State, Length: 69, dtype: int64"
     },
     "metadata": {},
     "execution_count": 7
    }
   ],
   "source": [
    "# You could filter on NY and NJ\n",
    "df.Registration_State.value_counts()"
   ]
  },
  {
   "cell_type": "code",
   "execution_count": null,
   "metadata": {},
   "outputs": [],
   "source": []
  }
 ],
 "metadata": {
  "language_info": {
   "codemirror_mode": {
    "name": "ipython",
    "version": 3
   },
   "file_extension": ".py",
   "mimetype": "text/x-python",
   "name": "python",
   "nbconvert_exporter": "python",
   "pygments_lexer": "ipython3",
   "version": "3.7.4-final"
  },
  "orig_nbformat": 2,
  "kernelspec": {
   "name": "python3",
   "display_name": "Python 3"
  }
 },
 "nbformat": 4,
 "nbformat_minor": 2
}